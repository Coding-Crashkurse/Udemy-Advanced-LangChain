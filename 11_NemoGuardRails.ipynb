{
 "cells": [
  {
   "cell_type": "code",
   "execution_count": null,
   "metadata": {},
   "outputs": [],
   "source": [
    "from dotenv import load_dotenv\n",
    "import os\n",
    "\n",
    "app_dir = os.path.join(os.getcwd(), \"app\")\n",
    "load_dotenv(os.path.join(app_dir, \".env\"))"
   ]
  },
  {
   "cell_type": "code",
   "execution_count": null,
   "metadata": {},
   "outputs": [],
   "source": [
    "import nest_asyncio\n",
    "\n",
    "nest_asyncio.apply()"
   ]
  },
  {
   "cell_type": "code",
   "execution_count": null,
   "metadata": {},
   "outputs": [],
   "source": [
    "colang_content = \"\"\"\n",
    "define user express greeting\n",
    "  \"hello\"\n",
    "  \"hi\"\n",
    "\n",
    "define bot express greeting\n",
    "  \"Hello there!! Can I help you today?\"\n",
    "\n",
    "define flow hello\n",
    "  user express greeting\n",
    "  bot express greeting\n",
    "\"\"\"\n",
    "yaml_content = \"\"\"\n",
    "models:\n",
    "- type: main\n",
    "  engine: openai\n",
    "  model: gpt-3.5-turbo\n",
    "\"\"\"\n",
    "\n",
    "from nemoguardrails import LLMRails, RailsConfig\n",
    "\n",
    "config = RailsConfig.from_content(\n",
    "  \tyaml_content=yaml_content,\n",
    "    colang_content=colang_content\n",
    ")"
   ]
  },
  {
   "cell_type": "code",
   "execution_count": null,
   "metadata": {},
   "outputs": [],
   "source": [
    "rails = LLMRails(config=config)"
   ]
  },
  {
   "cell_type": "code",
   "execution_count": null,
   "metadata": {},
   "outputs": [],
   "source": [
    "res = await rails.generate_async(prompt=\"Hello\")\n",
    "print(res)"
   ]
  },
  {
   "cell_type": "markdown",
   "metadata": {},
   "source": [
    "Instead of just passing a prompt, we can also pass a complete conversation"
   ]
  },
  {
   "cell_type": "code",
   "execution_count": null,
   "metadata": {},
   "outputs": [],
   "source": [
    "messages = [\n",
    "    {\"role\": \"user\", \"content\": \"Hey there!\"}\n",
    "]\n",
    "res = await rails.generate_async(messages=messages)\n",
    "print(res)"
   ]
  },
  {
   "cell_type": "markdown",
   "metadata": {},
   "source": [
    "We can also use variables in combination with if/else statements to make the behavior more dynamic"
   ]
  },
  {
   "cell_type": "code",
   "execution_count": null,
   "metadata": {},
   "outputs": [],
   "source": [
    "colang_content = \"\"\"\n",
    "define user express greeting\n",
    "    \"hello\"\n",
    "    \"hi\"\n",
    "\n",
    "define bot express greeting\n",
    "    \"Hello there!! Can I help you today?\"\n",
    "\n",
    "define bot personal greeting\n",
    "    \"Hello $username, nice to see you again!\"\n",
    "\n",
    "define flow hello\n",
    "    user express greeting\n",
    "    if $username\n",
    "        bot personal greeting\n",
    "    else\n",
    "        bot express greeting\n",
    "\"\"\"\n",
    "\n",
    "config = RailsConfig.from_content(\n",
    "  \tyaml_content=yaml_content,\n",
    "    colang_content=colang_content\n",
    ")\n",
    "rails = LLMRails(config=config)"
   ]
  },
  {
   "cell_type": "code",
   "execution_count": null,
   "metadata": {},
   "outputs": [],
   "source": [
    "messages = [\n",
    "    {\"role\": \"user\", \"content\": \"Hey there!\"}\n",
    "]\n",
    "res = await rails.generate_async(messages=messages)\n",
    "print(res)"
   ]
  },
  {
   "cell_type": "code",
   "execution_count": null,
   "metadata": {},
   "outputs": [],
   "source": [
    "messages = [\n",
    "    {\"role\": \"context\", \"content\": {\"username\": \"Markus\"}},\n",
    "    {\"role\": \"user\", \"content\": \"Hey there!\"},\n",
    "]\n",
    "res = await rails.generate_async(messages=messages)\n",
    "print(res)"
   ]
  },
  {
   "cell_type": "markdown",
   "metadata": {},
   "source": [
    "### Integration with LangChain\n",
    "\n",
    "We don´t want to substitute the probabistic bevahiour with a deterministic behaviour - we want to combine it. \n",
    "We can use `Actions` to integrate LangChain."
   ]
  },
  {
   "cell_type": "code",
   "execution_count": null,
   "metadata": {},
   "outputs": [],
   "source": [
    "from langchain_core.runnables import Runnable\n",
    "\n",
    "class CheckKeywordsRunnable(Runnable):\n",
    "    def invoke(self, input, config = None, **kwargs):\n",
    "        text = input[\"text\"]\n",
    "        keywords = input[\"keywords\"].split(\",\")\n",
    "\n",
    "        for keyword in keywords:\n",
    "            if keyword.strip() in text:\n",
    "                return True\n",
    "\n",
    "        return False\n",
    "\n",
    "print(CheckKeywordsRunnable().invoke({\"text\": \"This is a forbidden message\", \"keywords\": \"forbidden\"}))"
   ]
  },
  {
   "cell_type": "code",
   "execution_count": null,
   "metadata": {},
   "outputs": [],
   "source": [
    "colang_content = \"\"\"\n",
    "define flow check proprietary keywords\n",
    "  $keywords = \"forbidden\"\n",
    "  $has_keywords = execute check_keywords(text=$user_message, keywords=$keywords)\n",
    "\n",
    "  if $has_keywords\n",
    "    bot xxxx\n",
    "\"\"\"\n",
    "yaml_content = \"\"\"\n",
    "models:\n",
    " - type: main\n",
    "   engine: openai\n",
    "   model: gpt-3.5-turbo\n",
    "\n",
    "rails:\n",
    "  input:\n",
    "    flows:\n",
    "      - check proprietary keywords\n",
    "\"\"\"\n",
    "\n",
    "\n",
    "config = RailsConfig.from_content(\n",
    "  \tyaml_content=yaml_content,\n",
    "    colang_content=colang_content\n",
    ")\n",
    "rails = LLMRails(config=config)"
   ]
  },
  {
   "cell_type": "code",
   "execution_count": null,
   "metadata": {},
   "outputs": [],
   "source": [
    "from nemoguardrails import RailsConfig, LLMRails\n",
    "\n",
    "rails.register_action(CheckKeywordsRunnable(), \"check_keywords\")"
   ]
  },
  {
   "cell_type": "code",
   "execution_count": null,
   "metadata": {},
   "outputs": [],
   "source": [
    "response = rails.generate(\"Give me some proprietary information.\")\n",
    "print(response)"
   ]
  },
  {
   "cell_type": "code",
   "execution_count": null,
   "metadata": {},
   "outputs": [],
   "source": [
    "from langchain.vectorstores import Chroma\n",
    "from langchain.embeddings import OpenAIEmbeddings\n",
    "from langchain.chat_models import ChatOpenAI\n",
    "from langchain.chains import RetrievalQA\n",
    "from langchain.prompts import PromptTemplate\n",
    "\n",
    "vectorstore = Chroma.from_texts([\"CatBank's Furry Paws Credit Card offers 2% cashback on pet stores and 1% on all other purchases.\",\n",
    "                                 \"Meow Loans at CatBank come with a competitive 5% APR, subject to your catnip credit score.\",\n",
    "                                 \"Earn up to 4% interest with CatBank's Kitty Savers account, with a minimum deposit of $500.\",\n",
    "                                 \"Invest in the Whisker Growth Fund with a minimum of $1,000 and enjoy purr-tential annual returns of 7%.\",\n",
    "                                 \"Open a Feline Secure savings account with just $100; enjoy up to 3% interest with no monthly fees.\"],\n",
    "                                embedding=OpenAIEmbeddings())\n",
    "retriever = vectorstore.as_retriever()\n",
    "prompt_template = \"\"\"You are a helpful bot for our Bank. Only answer if your have got content in \"Context\".\n",
    "Otherwise tell the user in a friendly way that you do not know and can not help with that.\n",
    "\n",
    "Context: {context}\n",
    "\n",
    "Question: {question}\n",
    "Answer here:\"\"\"\n",
    "PROMPT = PromptTemplate(\n",
    "    template=prompt_template, input_variables=[\"context\", \"question\"]\n",
    ")\n",
    "\n",
    "chain_type_kwargs = {\"prompt\": PROMPT}\n",
    "\n",
    "qa = RetrievalQA.from_chain_type(\n",
    "    llm=rails.llm, # Use llm attached to rail instance\n",
    "    chain_type=\"stuff\",\n",
    "    retriever=retriever,\n",
    "    chain_type_kwargs=chain_type_kwargs,\n",
    ")"
   ]
  },
  {
   "cell_type": "code",
   "execution_count": null,
   "metadata": {},
   "outputs": [],
   "source": [
    "rails.register_action(qa, name=\"qa_chain\")"
   ]
  },
  {
   "cell_type": "code",
   "execution_count": null,
   "metadata": {},
   "outputs": [],
   "source": [
    "history = [{\"role\": \"user\",\"content\": \"Whats the minimum deposit for CatBank's Kitty Savers account?\"}]\n",
    "bot_message = await rails.generate_async(messages=history)\n",
    "print(bot_message)"
   ]
  },
  {
   "cell_type": "code",
   "execution_count": null,
   "metadata": {},
   "outputs": [],
   "source": [
    "history = [{\"role\": \"user\",\"content\": \"Make a joke about a cow\"}]\n",
    "bot_message = await rails.generate_async(messages=history)\n",
    "print(bot_message)"
   ]
  },
  {
   "cell_type": "markdown",
   "metadata": {},
   "source": [
    "We normally don´t want to our bot to answer to questions not related to our business topics, so we add Guardrails which cover specific off topic questions and also a chit-chat category"
   ]
  },
  {
   "cell_type": "code",
   "execution_count": null,
   "metadata": {},
   "outputs": [],
   "source": [
    "new_colang_content = \"\"\"\n",
    "define user express greeting\n",
    "    \"hello\"\n",
    "    \"hi\"\n",
    "\n",
    "define bot express greeting\n",
    "    \"Hello there!! Can I help you with your cat-related banking today?\"\n",
    "\n",
    "define bot personal greeting\n",
    "    \"Hello $username, nice to see you again! Hope your cat's doing well!\"\n",
    "\n",
    "define flow hello\n",
    "    user express greeting\n",
    "    if $username\n",
    "        bot personal greeting\n",
    "    else\n",
    "        bot express greeting\n",
    "\n",
    "define user ask about dogs\n",
    "    \"Can I get a loan for my dog?\"\n",
    "    \"Do you provide pet insurance for dogs?\"\n",
    "    \"What about doggie credit cards?\"\n",
    "\n",
    "define bot no dogs policy\n",
    "    \"Here at CatBank, we're all about cats! We don't offer services for dogs, but we can help with any cat-related banking needs.\"\n",
    "\n",
    "define flow dog policy\n",
    "    user ask about dogs\n",
    "    bot no dogs policy\n",
    "\n",
    "define user silly cat question\n",
    "    \"Can my cat open its own bank account?\"\n",
    "    \"Do you think cats are better bankers than humans?\"\n",
    "    \"Can I use a picture of my cat as my credit card design?\"\n",
    "\n",
    "define bot respond to silly cat question\n",
    "    \"While we love your cat's enthusiasm, only humans can open bank accounts. But we totally agree that cats would make amazing bankers, and yes, your credit card can definitely feature your cat's majestic portrait!\"\n",
    "\n",
    "define flow silly cat questions\n",
    "    user silly cat question\n",
    "    bot respond to silly cat question\n",
    "\n",
    "define user chit chat\n",
    "    \"What do you think about the latest movie?\"\n",
    "    \"Got any weekend plans?\"\n",
    "    \"Can you tell me a joke?\"\n",
    "\n",
    "define bot finance only\n",
    "    \"Sorry, I do cat related finance advice only!\"\n",
    "\n",
    "define flow chit chat\n",
    "    user chit chat\n",
    "    bot finance only\n",
    "\n",
    "define flow\n",
    "    user ...\n",
    "    $answer = execute qa_chain(query=$last_user_message)\n",
    "    bot $answer\n",
    "\"\"\""
   ]
  },
  {
   "cell_type": "code",
   "execution_count": null,
   "metadata": {},
   "outputs": [],
   "source": [
    "config = RailsConfig.from_content(\n",
    "  \tyaml_content=yaml_content,\n",
    "    colang_content=new_colang_content\n",
    ")\n",
    "rails = LLMRails(config=config)\n",
    "rails.register_action(qa, name=\"qa_chain\")"
   ]
  },
  {
   "cell_type": "code",
   "execution_count": null,
   "metadata": {},
   "outputs": [],
   "source": [
    "messages = [\n",
    "    {\"role\": \"context\", \"content\": {\"username\": \"Markus\"}},\n",
    "    {\"role\": \"user\", \"content\": \"Hello!\"},\n",
    "]\n",
    "res = await rails.generate_async(messages=messages)\n",
    "print(res)"
   ]
  },
  {
   "cell_type": "code",
   "execution_count": null,
   "metadata": {},
   "outputs": [],
   "source": [
    "messages = [{\"role\": \"user\",\"content\": \"Can you tell me a joke?\"}]\n",
    "bot_message = await rails.generate_async(messages=messages)\n",
    "print(bot_message)"
   ]
  },
  {
   "cell_type": "markdown",
   "metadata": {},
   "source": [
    "We can also do execute arbitrary functions or use functions, which make a follow up request to an LLM. Here is an example with Doctran"
   ]
  },
  {
   "cell_type": "code",
   "execution_count": null,
   "metadata": {},
   "outputs": [],
   "source": [
    "from langchain.document_transformers import DoctranPropertyExtractor\n",
    "from typing import Sequence, Any\n",
    "from langchain.schema import Document\n",
    "\n",
    "class CustomDoctranPropertyExtractor(DoctranPropertyExtractor):\n",
    "    def transform_documents(\n",
    "            self, documents: Sequence[Document], **kwargs: Any\n",
    "    ) -> Sequence[Document]:\n",
    "\n",
    "        \"\"\"Async method is currently broken (Document cant be used in async).\"\"\"\n",
    "        try:\n",
    "            from doctran import Doctran, ExtractProperty\n",
    "\n",
    "            doctran = Doctran(\n",
    "                openai_api_key=self.openai_api_key, openai_model=self.openai_api_model\n",
    "            )\n",
    "        except ImportError:\n",
    "            raise ImportError(\n",
    "                \"Install doctran to use this parser. (pip install doctran)\"\n",
    "            )\n",
    "\n",
    "        properties = [ExtractProperty(**property) for property in self.properties]\n",
    "        for d in documents:\n",
    "            doctran_doc = doctran.parse(content=d.page_content)\n",
    "            extracted_properties = doctran_doc.extract(\n",
    "                properties=properties).execute()\n",
    "\n",
    "            d.metadata[\"extracted_properties\"] = extracted_properties\n",
    "        return documents\n",
    "\n",
    "from langchain.schema import Document\n",
    "\n",
    "async def get_bank_branch_address(branch):\n",
    "    properties = [\n",
    "        {\n",
    "            \"name\": \"mentioned_branch\",\n",
    "            \"description\": \"The bank branch mentioned in this query.\",\n",
    "            \"type\": \"string\",\n",
    "            \"required\": True\n",
    "        }\n",
    "    ]\n",
    "    property_extractor = CustomDoctranPropertyExtractor(\n",
    "        properties=properties, openai_api_model=\"gpt-3.5-turbo\"\n",
    "    )\n",
    "    documents = [Document(page_content=branch)]\n",
    "    extracted_documents = property_extractor.transform_documents(\n",
    "        documents=documents\n",
    "    )\n",
    "    print(\"EXTRACTED_DOCS: \", extracted_documents)\n",
    "    branch_name = extracted_documents[0].metadata['extracted_properties'].transformed_content\n",
    "\n",
    "    branch_addresses = {\n",
    "        \"Central CatBank\": \"123 Feline Street, Cat City\",\n",
    "        \"CatBank North\": \"456 Purr Avenue, Kitty Corner\",\n",
    "        \"CatBank South\": \"789 Whisker Way, Tabby Town\",\n",
    "        \"Downtown CatBank\": \"101 Claw Circle, Meow Metro\"\n",
    "    }\n",
    "\n",
    "    address = branch_addresses.get(branch_name)\n",
    "    if address:\n",
    "        return f\"The address for {branch_name} is {address}.\"\n",
    "    else:\n",
    "        return \"Branch not found.\"\n",
    "\n",
    "\n",
    "\n",
    "function_colang_content = \"\"\"\n",
    "define user express greeting\n",
    "    \"hello\"\n",
    "    \"hi\"\n",
    "\n",
    "define bot express greeting\n",
    "    \"Hello there!! Can I help you with your cat-related banking today?\"\n",
    "\n",
    "define bot personal greeting\n",
    "    \"Hello $username, nice to see you again! Hope your cat's doing well!\"\n",
    "\n",
    "define flow hello\n",
    "    user express greeting\n",
    "    if $username\n",
    "        bot personal greeting\n",
    "    else\n",
    "        bot express greeting\n",
    "\n",
    "define user ask about dogs\n",
    "    \"Can I get a loan for my dog?\"\n",
    "    \"Do you provide pet insurance for dogs?\"\n",
    "    \"What about doggie credit cards?\"\n",
    "\n",
    "define bot no dogs policy\n",
    "    \"Here at CatBank, we're all about cats! We don't offer services for dogs, but we can help with any cat-related banking needs.\"\n",
    "\n",
    "define flow dog policy\n",
    "    user ask about dogs\n",
    "    bot no dogs policy\n",
    "\n",
    "define user silly cat question\n",
    "    \"Can my cat open its own bank account?\"\n",
    "    \"Do you think cats are better bankers than humans?\"\n",
    "    \"Can I use a picture of my cat as my credit card design?\"\n",
    "\n",
    "define bot respond to silly cat question\n",
    "    \"While we love your cat's enthusiasm, only humans can open bank accounts. But we totally agree that cats would make amazing bankers, and yes, your credit card can definitely feature your cat's majestic portrait!\"\n",
    "\n",
    "define flow silly cat questions\n",
    "    user silly cat question\n",
    "    bot respond to silly cat question\n",
    "\n",
    "define user chit chat\n",
    "    \"What do you think about the latest movie?\"\n",
    "    \"Got any weekend plans?\"\n",
    "    \"Can you tell me a joke?\"\n",
    "\n",
    "define bot finance only\n",
    "    \"Sorry, I do cat related finance advice only!\"\n",
    "\n",
    "define flow chit chat\n",
    "    user chit chat\n",
    "    bot finance only\n",
    "\n",
    "define user inquire branch address\n",
    "    \"Wo finde ich die Central CatBank?\"\n",
    "    \"Wo ist CatBank North?\"\n",
    "    \"Kannst du mir sagen, wo CatBank South ist?\"\n",
    "    \"Wo ist Downtown CatBank?\"\n",
    "\n",
    "define flow inquire branch address\n",
    "    user inquire branch address\n",
    "    $address = execute get_bank_branch_address(branch=$last_user_message)\n",
    "    bot $address\n",
    "\n",
    "define flow\n",
    "    user ...\n",
    "    $answer = execute qa_chain(query=$last_user_message)\n",
    "    bot $answer\n",
    "\"\"\"\n",
    "\n"
   ]
  },
  {
   "cell_type": "code",
   "execution_count": null,
   "metadata": {},
   "outputs": [],
   "source": [
    "config = RailsConfig.from_content(\n",
    "  \tyaml_content=yaml_content,\n",
    "    colang_content=function_colang_content\n",
    ")\n",
    "rails = LLMRails(config=config)\n",
    "rails.register_action(qa, name=\"qa_chain\")\n",
    "rails.register_action(get_bank_branch_address, name=\"get_bank_branch_address\")"
   ]
  },
  {
   "cell_type": "code",
   "execution_count": null,
   "metadata": {},
   "outputs": [],
   "source": [
    "messages = [{\"role\": \"user\",\"content\": \"Wo ist die Central CatBank\"}]\n",
    "bot_message = await rails.generate_async(messages=messages)\n",
    "print(bot_message)"
   ]
  },
  {
   "cell_type": "markdown",
   "metadata": {},
   "source": [
    "Subflows"
   ]
  },
  {
   "cell_type": "code",
   "execution_count": null,
   "metadata": {},
   "outputs": [],
   "source": [
    "\n",
    "subflow_colang_content = \"\"\"\n",
    "define user express greeting\n",
    "  \"hello\"\n",
    "  \"hi\"\n",
    "\n",
    "define bot greeting_authenticated\n",
    "  \"Welcome back to CatBank, $username! How can we assist you and your cat today?\"\n",
    "\n",
    "define bot greeting_unauthenticated\n",
    "  \"Welcome to CatBank! Please log in or create an account to begin.\"\n",
    "\n",
    "define subflow greeting with auth\n",
    "  if $user_auth\n",
    "    bot greeting_authenticated\n",
    "  else\n",
    "    bot greeting_unauthenticated\n",
    "\n",
    "define flow hello\n",
    "  user express greeting\n",
    "  do greeting with auth\n",
    "\"\"\"\n",
    "\n",
    "config = RailsConfig.from_content(\n",
    "  \tyaml_content=yaml_content,\n",
    "    colang_content=subflow_colang_content\n",
    ")\n",
    "rails = LLMRails(config=config)"
   ]
  },
  {
   "cell_type": "code",
   "execution_count": null,
   "metadata": {},
   "outputs": [],
   "source": [
    "messages = [\n",
    "    {\"role\": \"context\", \"content\": {\"user_auth\": False, \"username\": \"Markus\"}},\n",
    "    {\"role\": \"user\", \"content\": \"Hey there!\"},\n",
    "]\n",
    "bot_message = await rails.generate_async(messages=messages)\n",
    "print(bot_message)"
   ]
  },
  {
   "cell_type": "code",
   "execution_count": null,
   "metadata": {},
   "outputs": [],
   "source": [
    "messages = [\n",
    "    {\"role\": \"context\", \"content\": {\"user_auth\": True, \"username\": \"Markus\"}},\n",
    "    {\"role\": \"user\", \"content\": \"Hey there!\"},\n",
    "]\n",
    "bot_message = await rails.generate_async(messages=messages)\n",
    "print(bot_message)"
   ]
  }
 ],
 "metadata": {
  "kernelspec": {
   "display_name": "myvenv",
   "language": "python",
   "name": "python3"
  },
  "language_info": {
   "codemirror_mode": {
    "name": "ipython",
    "version": 3
   },
   "file_extension": ".py",
   "mimetype": "text/x-python",
   "name": "python",
   "nbconvert_exporter": "python",
   "pygments_lexer": "ipython3",
   "version": "3.11.0"
  }
 },
 "nbformat": 4,
 "nbformat_minor": 2
}
