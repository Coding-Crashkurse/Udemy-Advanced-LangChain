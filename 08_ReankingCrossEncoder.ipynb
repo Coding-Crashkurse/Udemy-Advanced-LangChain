{
 "cells": [
  {
   "cell_type": "code",
   "execution_count": null,
   "metadata": {},
   "outputs": [],
   "source": [
    "from langchain_openai import OpenAIEmbeddings\n",
    "from langchain_community.vectorstores import Chroma\n",
    "from langchain_core.runnables import RunnablePassthrough\n",
    "from langchain_core.output_parsers import StrOutputParser\n",
    "from langchain_openai import ChatOpenAI\n",
    "from langchain_core.prompts import ChatPromptTemplate\n",
    "from langchain.schema import Document\n",
    "from langchain_community.document_loaders import DirectoryLoader\n",
    "from langchain.text_splitter import RecursiveCharacterTextSplitter\n",
    "from langchain_core.runnables import RunnableParallel\n",
    "from dotenv import load_dotenv\n",
    "import os\n",
    "\n",
    "app_dir = os.path.join(os.getcwd(), 'app')\n",
    "load_dotenv(os.path.join(app_dir, '.env'))\n",
    "\n",
    "loader = DirectoryLoader('./data', glob=\"**/*.txt\")\n",
    "docs = loader.load()\n",
    "\n",
    "text_splitter = RecursiveCharacterTextSplitter(\n",
    "    chunk_size=120,\n",
    "    chunk_overlap=20,\n",
    "    length_function=len,\n",
    "    is_separator_regex=False,\n",
    ")\n",
    "chunks = text_splitter.split_documents(docs)\n",
    "\n",
    "embedding_function = OpenAIEmbeddings()\n",
    "model = ChatOpenAI()\n",
    "\n",
    "db = Chroma.from_documents(docs, embedding_function)\n",
    "retriever = db.as_retriever()\n"
   ]
  },
  {
   "cell_type": "code",
   "execution_count": null,
   "metadata": {},
   "outputs": [],
   "source": [
    "def format_docs(docs: list[Document]):\n",
    "    return \"\\n\".join(doc.page_content for doc in docs)\n"
   ]
  },
  {
   "cell_type": "code",
   "execution_count": null,
   "metadata": {},
   "outputs": [],
   "source": [
    "template = \"\"\"Answer the question based only on the following context:\n",
    "{context}\n",
    "\n",
    "Question: {question}\n",
    "\"\"\"\n",
    "prompt = ChatPromptTemplate.from_template(template)\n",
    "model = ChatOpenAI()\n",
    "\n",
    "rag_chain_from_docs = (\n",
    "    RunnablePassthrough.assign(context=(lambda x: format_docs(x[\"context\"])))\n",
    "    | prompt\n",
    "    | model\n",
    "    | StrOutputParser()\n",
    ")\n",
    "\n",
    "rag_chain_with_source = RunnableParallel(\n",
    "    {\"context\": retriever, \"question\": RunnablePassthrough()}\n",
    ").assign(answer=rag_chain_from_docs)"
   ]
  },
  {
   "cell_type": "code",
   "execution_count": null,
   "metadata": {},
   "outputs": [],
   "source": [
    "result = rag_chain_with_source.invoke(input=\"Who is the owner of the restaurant\")"
   ]
  },
  {
   "cell_type": "code",
   "execution_count": null,
   "metadata": {},
   "outputs": [],
   "source": [
    "result"
   ]
  },
  {
   "cell_type": "markdown",
   "metadata": {},
   "source": [
    "### Why is that approach bad?\n",
    "\n",
    "You will always retrieve top-k documents and pass them to the model. \n",
    "No matter how relevant the documents are"
   ]
  },
  {
   "cell_type": "code",
   "execution_count": null,
   "metadata": {},
   "outputs": [],
   "source": [
    "from sentence_transformers import CrossEncoder\n",
    "cross_encoder = CrossEncoder('cross-encoder/ms-marco-MiniLM-L-6-v2')"
   ]
  },
  {
   "cell_type": "code",
   "execution_count": null,
   "metadata": {},
   "outputs": [],
   "source": [
    "docs = result[\"context\"]\n",
    "contents = [doc.page_content for doc in docs]"
   ]
  },
  {
   "cell_type": "code",
   "execution_count": null,
   "metadata": {},
   "outputs": [],
   "source": [
    "docs"
   ]
  },
  {
   "cell_type": "code",
   "execution_count": null,
   "metadata": {},
   "outputs": [],
   "source": [
    "pairs = []\n",
    "for text in contents:\n",
    "    pairs.append([\"Who is the owner of the restaurant\", text])"
   ]
  },
  {
   "cell_type": "code",
   "execution_count": null,
   "metadata": {},
   "outputs": [],
   "source": [
    "scores = cross_encoder.predict(pairs)\n",
    "scores"
   ]
  },
  {
   "cell_type": "code",
   "execution_count": null,
   "metadata": {},
   "outputs": [],
   "source": [
    "scored_docs = zip(scores, docs)\n",
    "sorted_docs = sorted(scored_docs, reverse=True)\n",
    "sorted_docs"
   ]
  },
  {
   "cell_type": "code",
   "execution_count": null,
   "metadata": {},
   "outputs": [],
   "source": [
    "reranked_docs = [doc for _, doc in sorted_docs][0:2]\n",
    "reranked_docs"
   ]
  },
  {
   "cell_type": "markdown",
   "metadata": {},
   "source": [
    "### Integrate that in LCEL"
   ]
  },
  {
   "cell_type": "code",
   "execution_count": 52,
   "metadata": {},
   "outputs": [],
   "source": [
    "from sentence_transformers import CrossEncoder\n",
    "from langchain_core.runnables import RunnableLambda\n",
    "\n",
    "def rerank_documents(input_data):\n",
    "    query = input_data[\"question\"]\n",
    "    docs = input_data[\"context\"]\n",
    "\n",
    "    cross_encoder = CrossEncoder('cross-encoder/ms-marco-MiniLM-L-6-v2')\n",
    "    contents = [doc.page_content for doc in docs]\n",
    "\n",
    "    pairs = [(query, text) for text in contents]\n",
    "    scores = cross_encoder.predict(pairs)\n",
    "\n",
    "    scored_docs = zip(scores, docs)\n",
    "    sorted_docs = sorted(scored_docs, key=lambda x: x[0], reverse=True)\n",
    "    return [doc for _, doc in sorted_docs]\n",
    "\n",
    "template = \"\"\"Answer the question based only on the following context:\n",
    "{context}\n",
    "\n",
    "Question: {question}\n",
    "\"\"\"\n",
    "prompt = ChatPromptTemplate.from_template(template)\n",
    "model = ChatOpenAI()\n",
    "\n",
    "rag_chain_from_docs = (\n",
    "    RunnablePassthrough.assign(context=RunnableLambda(rerank_documents))\n",
    "    | prompt\n",
    "    | model\n",
    "    | StrOutputParser()\n",
    ")\n",
    "\n",
    "rag_chain_with_source = RunnableParallel(\n",
    "    {\"context\": retriever, \"question\": RunnablePassthrough()}\n",
    ").assign(answer=rag_chain_from_docs)"
   ]
  },
  {
   "cell_type": "code",
   "execution_count": 53,
   "metadata": {},
   "outputs": [
    {
     "name": "stderr",
     "output_type": "stream",
     "text": [
      "Number of requested results 4 is greater than number of elements in index 3, updating n_results = 3\n"
     ]
    },
    {
     "data": {
      "text/plain": [
       "{'context': [Document(page_content=\"In the charming streets of Palermo, tucked away in a quaint alley, stood Chef Amico, a restaurant that was more than a mere eatery—it was a slice of Sicilian heaven. Founded by Amico, a chef whose name was synonymous with passion and creativity, the restaurant was a mosaic of his life’s journey through the flavors of Italy.\\n\\nChef Amico’s doors opened to a world where the aromas of garlic and olive oil were as welcoming as a warm embrace. The walls, adorned with photos of Amico’s travels and family recipes, spoke of a rich culinary heritage. The chatter and laughter of patrons filled the air, creating a symphony as delightful as the dishes served.\\n\\nOne evening, as the sun cast a golden glow over the city, a renowned food critic, Elena Rossi, stepped into Chef Amico. Her mission was to uncover the secret behind the restaurant's growing fame. She was greeted by Amico himself, whose eyes sparkled with the joy of a man who loved his work.\\n\\nElena was led to a table adorned with a simple, elegant setting. The first course was Caponata, a melody of eggplant, capers, and sweet tomatoes, which danced on her palate. Next came the Risotto al Nero di Seppia, a dish that told the tale of Sicily’s love affair with the sea. Each spoonful was a revelation, the rich flavors of squid ink harmonizing with the creamy rice.\\n\\nThe final masterpiece was Cannoli, the crown jewel of Sicilian desserts. As Elena savored the sweet ricotta filling, encased in a perfectly crisp shell, she realized that Chef Amico wasn’t just about the food. It was about the stories, the traditions, and the heart poured into every dish.\\n\\nLeaving the restaurant, Elena knew her review would sing praises not just of the food, but of the soul of Chef Amico—a place where every dish was a journey through Sicily, and every bite, a taste of Amico’s dream come true.\", metadata={'source': 'data\\\\restaurant.txt'}),\n",
       "  Document(page_content=\"In the heart of the old quarter of Palermo, amidst the bustling market stalls and the echoes of lively street life, Amico was born into a family where food was more than sustenance—it was the language of love. Raised in the warmth of his Nonna Lucia's kitchen, young Amico was captivated by the symphony of flavors and aromas that danced in the air, a testament to his family’s Sicilian heritage.\\n\\nAmico's life was deeply entwined with the vibrant essence of Sicilian cuisine. In the rustic kitchen where his Nonna conjured culinary magic, Amico found his calling. These formative years, filled with the rhythmic chopping of fresh herbs and the sizzling of rich tomato sauces, laid the foundation of his passion for cooking.\\n\\nThe Journey to Chef Amico\\n\\nFrom a young age, Amico was immersed in the art of Sicilian cooking. His days were punctuated by visits to the bustling markets of Palermo, where he learned to choose the freshest fish from the Mediterranean and the ripest fruits kissed by the Sicilian sun. These experiences not only sharpened his culinary skills but also deepened his respect for the land and its bounty.\\n\\nAs he grew, so did his desire to explore beyond the shores of Sicily. Venturing through Italy, Amico worked alongside renowned chefs, each teaching him a new facet of Italian cuisine. From the rolling hills of Tuscany to the romantic canals of Venice, he absorbed the diverse regional flavors, techniques, and traditions that would later influence his unique culinary style.\\n\\nCreating Chef Amico’s Restaurant\\n\\nReturning to Palermo with a vision, Amico opened the doors to “Chef Amico,” a restaurant that was a culmination of his travels and a tribute to his Sicilian roots. Nestled in a quaint corner of the city, the restaurant quickly gained fame for its authentic flavors and Amico’s innovative twists on traditional recipes.\\n\\nAt Chef Amico, every dish told a story. The menu, a tapestry of Sicilian classics and modern Italian cuisine, reflected Amico’s journey and his commitment to excellence. Patrons were not just diners; they were part of an extended family, welcomed with the same warmth and joy that Amico had experienced in his Nonna’s kitchen.\\n\\nPhilosophy of Hospitality\\n\\nFor Amico, hospitality was an art form. He believed that a meal was a celebration, a moment to pause and relish life’s simple pleasures. His restaurant was a haven where strangers became friends over plates of arancini and glasses of Nero d’Avola. The atmosphere he fostered was one of comfort and camaraderie, a place where every guest left with a full stomach and a happy heart.\\n\\nContinuing the Legacy\\n\\nToday, Chef Amico stands as a landmark in Palermo, a testament to Amico’s dedication and love for his craft. His spirit of generosity and passion for food extends beyond the restaurant’s walls. He mentors young chefs, shares his knowledge at culinary workshops, and supports local farmers and producers.\\n\\nAmico’s legacy is not just in the dishes he creates but in the community he nurtures. His story is a tribute to the power of food to connect us, to share our stories, and to celebrate the richness of life. Chef Amico is more than a restaurant; it's a home, built on a lifetime of love, learning, and the flavors of Sicily.\", metadata={'source': 'data\\\\founder.txt'}),\n",
       "  Document(page_content='Margherita Pizza; $12; Classic with tomato, mozzarella, and basil; Main Dish\\n\\nSpaghetti Carbonara; $15; Creamy pasta with pancetta and parmesan; Main Dish\\n\\nBruschetta; $8; Toasted bread with tomato, garlic, and olive oil; Appetizer\\n\\nCaprese Salad; $10; Fresh tomatoes, mozzarella, and basil; Salad\\n\\nLasagna; $14; Layered pasta with meat sauce and cheese; Main Dish\\n\\nTiramisu; $9; Coffee-flavored Italian dessert; Dessert\\n\\nGelato; $7; Traditional Italian ice cream; Dessert\\n\\nRisotto Milanese; $16; Creamy saffron-infused rice dish; Main Dish\\n\\nPolenta; $11; Cornmeal dish, often served as a side; Side Dish\\n\\nOsso Buco; $20; Braised veal shanks with vegetables and broth; Main Dish\\n\\nRavioli; $13; Stuffed pasta with cheese or meat filling; Main Dish\\n\\nMinestrone Soup; $9; Vegetable soup with pasta or rice; Soup\\n\\nProsecco; $8; Italian sparkling white wine; Drink\\n\\nChianti; $10; Dry red wine from Tuscany; Drink\\n\\nFocaccia; $6; Oven-baked Italian bread; Side Dish\\n\\nCalamari; $12; Fried squid rings with marinara sauce; Appetizer\\n\\nEspresso; $4; Strong Italian coffee; Drink\\n\\nCannoli; $8; Sicilian pastry with sweet ricotta filling; Dessert\\n\\nArancini; $10; Fried rice balls stuffed with cheese or meat; Appetizer\\n\\nPanna Cotta; $9; Creamy Italian dessert with caramel or fruit; Dessert\\n\\nNegroni; $12; Cocktail with gin, vermouth, and Campari; Drink\\n\\nAperol Spritz; $10; Aperitif cocktail with Aperol, prosecco, and soda; Drink\\n\\nGnocchi; $14; Potato-based pasta served with various sauces; Main Dish\\n\\nPanzanella; $9; Bread and tomato salad; Salad\\n\\nCarpaccio; $15; Thinly sliced raw beef with arugula and parmesan; Appetizer\\n\\nAffogato; $7; Espresso poured over gelato; Dessert\\n\\nBiscotti; $5; Crunchy Italian almond biscuits; Dessert\\n\\nVitello Tonnato; $18; Thin slices of veal with a creamy tuna sauce; Main Dish\\n\\nCrostini; $7; Small toasted bread with toppings; Appetizer\\n\\nZabaglione; $10; Light custard dessert made with egg yolks; Dessert\\n\\nFrittata; $12; Italian-style omelette; Main Dish\\n\\nSaltimbocca; $19; Veal wrapped in prosciutto and sage; Main Dish\\n\\nLimoncello; $8; Italian lemon liqueur; Drink\\n\\nGrappa; $9; Italian grape-based brandy; Drink\\n\\nSangiovese; $11; Medium-bodied red wine; Drink\\n\\nRibollita; $10; Tuscan bread and vegetable soup; Soup\\n\\nTortellini; $14; Ring-shaped pasta filled with meat or cheese; Main Dish\\n\\nPanettone; $15; Traditional Italian Christmas bread; Dessert\\n\\nInsalata Mista; $8; Mixed green salad with Italian dressing; Salad\\n\\nCacio e Pepe; $13; Pasta with cheese and pepper; Main Dish\\n\\nItalian Soda; $5; Carbonated water with flavored syrup; Drink\\n\\nAmericano; $6; Coffee with added hot water; Drink\\n\\nFrutti di Mare; $22; Seafood pasta with mixed shellfish; Main Dish\\n\\nCaponata; $9; Eggplant dish with capers, olives, and celery; Side Dish\\n\\nAmaretto Sour; $10; Cocktail with amaretto, lemon juice, and sugar; Drink\\n\\nBranzino; $21; Mediterranean sea bass, usually grilled or baked; Main Dish\\n\\nPorchetta; $18; Savory, fatty, and moist boneless pork roast; Main Dish\\n\\nMontepulciano Wine; $12; Full-bodied red wine; Drink\\n\\nBresaola; $14; Air-dried, salted beef served as an appetizer; Appetizer\\n\\nPesto Pasta; $12; Pasta with traditional basil pesto sauce; Main Dish', metadata={'source': 'data\\\\food.txt'})],\n",
       " 'question': 'Who is the owner of the restaurant',\n",
       " 'answer': 'Chef Amico is the owner of the restaurant.'}"
      ]
     },
     "execution_count": 53,
     "metadata": {},
     "output_type": "execute_result"
    }
   ],
   "source": [
    "result = rag_chain_with_source.invoke(input=\"Who is the owner of the restaurant\")\n",
    "result"
   ]
  },
  {
   "cell_type": "markdown",
   "metadata": {},
   "source": [
    "### LLM-based Document Compressor"
   ]
  },
  {
   "cell_type": "code",
   "execution_count": 1,
   "metadata": {},
   "outputs": [],
   "source": [
    "from langchain.prompts import PromptTemplate\n",
    "\n",
    "DOCUMENT_EVALUATOR_PROMPT = PromptTemplate(\n",
    "    input_variables=[\"document\", \"question\"],\n",
    "    template=\"\"\"You are an AI language model assistant. Your task is to evaluate the provided document to determine if it is suited to answer the given user question. Assess the document for its relevance to the question, the completeness of information, and the accuracy of the content.\n",
    "\n",
    "    Original question: {question}\n",
    "    Document for Evaluation: {document}\n",
    "    Evaluation Result: <<'True' if the document is suited to answer the question, 'False' if it is not>>\n",
    "\n",
    "    Note: Conclude with a 'True' or 'False' based on your analysis of the document's relevance, completeness, and accuracy in relation to the question.\"\"\"\n",
    ")\n"
   ]
  },
  {
   "cell_type": "code",
   "execution_count": null,
   "metadata": {},
   "outputs": [],
   "source": [
    "from langchain.schema import Document\n",
    "\n",
    "documents = [\n",
    "    Document(page_content=\"The owner is Guivanni\"), Document(page_content=\"Pizza Salami costs 10$\"),\n",
    "    Document(page_content=\"We close the restaurant at 10p.m each day\")\n",
    "]\n",
    "\n",
    "model = ChatOpenAI()\n",
    "rephrase_chain = DOCUMENT_EVALUATOR_PROMPT | model | StrOutputParser()"
   ]
  }
 ],
 "metadata": {
  "kernelspec": {
   "display_name": ".venv",
   "language": "python",
   "name": "python3"
  },
  "language_info": {
   "codemirror_mode": {
    "name": "ipython",
    "version": 3
   },
   "file_extension": ".py",
   "mimetype": "text/x-python",
   "name": "python",
   "nbconvert_exporter": "python",
   "pygments_lexer": "ipython3",
   "version": "3.11.0"
  }
 },
 "nbformat": 4,
 "nbformat_minor": 2
}
