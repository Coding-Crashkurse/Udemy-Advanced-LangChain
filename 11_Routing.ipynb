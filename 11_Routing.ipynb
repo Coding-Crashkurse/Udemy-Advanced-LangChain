{
 "cells": [
  {
   "cell_type": "code",
   "execution_count": 3,
   "metadata": {},
   "outputs": [],
   "source": [
    "from langchain.utils.math import cosine_similarity\n",
    "from langchain_core.output_parsers import StrOutputParser\n",
    "from langchain_core.prompts import PromptTemplate\n",
    "from langchain_core.runnables import RunnableLambda, RunnablePassthrough\n",
    "from langchain_openai import ChatOpenAI, OpenAIEmbeddings\n",
    "from dotenv import load_dotenv\n",
    "import os\n",
    "\n",
    "app_dir = os.path.join(os.getcwd(), \"app\")\n",
    "load_dotenv(os.path.join(app_dir, \".env\"))\n",
    "\n",
    "car_template = \"\"\"You are an expert in automobiles. You have extensive knowledge about car mechanics, \\\n",
    "models, and automotive technology. You provide clear and helpful answers about cars.\n",
    "\n",
    "Here is a question:\n",
    "{query}\"\"\"\n",
    "\n",
    "restaurant_template = \"\"\"You are a knowledgeable food critic and restaurant reviewer. You have a deep understanding of \\\n",
    "different cuisines, dining experiences, and what makes a great restaurant. You answer questions about restaurants insightfully.\n",
    "\n",
    "Here is a question:\n",
    "{query}\"\"\"\n",
    "\n",
    "technology_template = \"\"\"You are a tech expert with in-depth knowledge of the latest gadgets, software, \\\n",
    "and technological trends. You provide insightful and detailed answers about technology.\n",
    "\n",
    "Here is a question:\n",
    "{query}\"\"\""
   ]
  },
  {
   "cell_type": "code",
   "execution_count": 1,
   "metadata": {},
   "outputs": [],
   "source": [
    "car_questions = [\n",
    "    \"What is the difference between a sedan and an SUV?\",\n",
    "    \"How does a hybrid car save fuel?\",\n",
    "    \"What should I look for when buying a used car?\",\n",
    "]\n",
    "\n",
    "restaurant_questions = [\n",
    "    \"What makes a five-star restaurant exceptional?\",\n",
    "    \"How do I choose a good wine pairing for my meal?\",\n",
    "    \"What are the key elements of French cuisine?\",\n",
    "]\n",
    "\n",
    "technology_questions = [\n",
    "    \"What are the latest advancements in AI?\",\n",
    "    \"How do I secure my home network against cyber threats?\",\n",
    "    \"What should I consider when buying a new smartphone?\",\n",
    "]"
   ]
  },
  {
   "cell_type": "code",
   "execution_count": 4,
   "metadata": {},
   "outputs": [],
   "source": [
    "embeddings = OpenAIEmbeddings()\n",
    "\n",
    "car_question_embeddings = embeddings.embed_documents(car_questions)\n",
    "restaurant_question_embeddings = embeddings.embed_documents(restaurant_questions)\n",
    "technology_question_embeddings = embeddings.embed_documents(technology_questions)"
   ]
  },
  {
   "cell_type": "code",
   "execution_count": 7,
   "metadata": {},
   "outputs": [
    {
     "name": "stdout",
     "output_type": "stream",
     "text": [
      "Using CAR\n"
     ]
    }
   ],
   "source": [
    "def prompt_router(input):\n",
    "    query_embedding = embeddings.embed_query(input[\"query\"])\n",
    "    car_similarity = cosine_similarity([query_embedding], car_question_embeddings)[0]\n",
    "    restaurant_similarity = cosine_similarity(\n",
    "        [query_embedding], restaurant_question_embeddings\n",
    "    )[0]\n",
    "    technology_similarity = cosine_similarity(\n",
    "        [query_embedding], technology_question_embeddings\n",
    "    )[0]\n",
    "\n",
    "    max_similarity = max(\n",
    "        max(car_similarity), max(restaurant_similarity), max(technology_similarity)\n",
    "    )\n",
    "\n",
    "    if max_similarity == max(car_similarity):\n",
    "        print(\"Using CAR\")\n",
    "        return PromptTemplate.from_template(car_template)\n",
    "    elif max_similarity == max(restaurant_similarity):\n",
    "        print(\"Using RESTAURANT\")\n",
    "        return PromptTemplate.from_template(restaurant_template)\n",
    "    else:\n",
    "        print(\"Using TECHNOLOGY\")\n",
    "        return PromptTemplate.from_template(technology_template)\n",
    "\n",
    "\n",
    "input_query = {\"query\": \"What's the best way to improve my cars's battery life?\"}\n",
    "prompt = prompt_router(input_query)"
   ]
  },
  {
   "cell_type": "code",
   "execution_count": 8,
   "metadata": {},
   "outputs": [],
   "source": [
    "chain = (\n",
    "    {\"query\": RunnablePassthrough()}\n",
    "    | RunnableLambda(prompt_router)\n",
    "    | ChatOpenAI()\n",
    "    | StrOutputParser()\n",
    ")"
   ]
  },
  {
   "cell_type": "code",
   "execution_count": 9,
   "metadata": {},
   "outputs": [
    {
     "name": "stdout",
     "output_type": "stream",
     "text": [
      "Using RESTAURANT\n"
     ]
    },
    {
     "data": {
      "text/plain": [
       "\"Identifying a good vintage wine at a restaurant can be a bit tricky, but there are a few tips to keep in mind. \\n\\n1. Look at the wine list: A reputable restaurant will have a well-curated wine list with a good selection of vintage wines. Look for well-known vineyards or regions that are famous for producing quality wines.\\n\\n2. Ask the sommelier: If you're unsure about which vintage wine to choose, don't hesitate to ask the sommelier for recommendations. They are trained experts who can help guide you to a great choice based on your preferences.\\n\\n3. Check the label: Look for specific information on the label such as the vineyard, region, and year of production. Older vintages are not always better, so do some research on the particular wine or ask the sommelier for more information.\\n\\n4. Consider the price: Vintage wines tend to be more expensive, so be prepared to pay a premium for a good bottle. However, price is not always an indicator of quality, so make sure to do your research or ask for recommendations.\\n\\nOverall, the key to identifying a good vintage wine at a restaurant is to do your homework, ask for help if needed, and trust your own palate. Cheers!\""
      ]
     },
     "execution_count": 9,
     "metadata": {},
     "output_type": "execute_result"
    }
   ],
   "source": [
    "chain.invoke(\"How do I identify a good vintage wine at a restaurant?\")"
   ]
  },
  {
   "cell_type": "markdown",
   "metadata": {},
   "source": [
    "Classification"
   ]
  },
  {
   "cell_type": "code",
   "execution_count": 10,
   "metadata": {},
   "outputs": [],
   "source": [
    "from langchain_core.output_parsers import StrOutputParser\n",
    "from langchain_core.prompts import PromptTemplate\n",
    "from langchain_openai import ChatOpenAI\n",
    "\n",
    "classification_template = PromptTemplate.from_template(\n",
    "    \"\"\"You are good at classifying a question.\n",
    "    Given the user question below, classify it as either being about `Car`, `Restaurant`, or `Technology`.\n",
    "\n",
    "    <If the question is about car mechanics, models, or automotive technology, classify it as 'Car'>\n",
    "    <If the question is about cuisines, dining experiences, or restaurant services, classify it as 'Restaurant'>\n",
    "    <If the question is about gadgets, software, or technological trends, classify it as 'Technology'>\n",
    "\n",
    "    <question>\n",
    "    {question}\n",
    "    </question>\n",
    "\n",
    "    Classification:\"\"\"\n",
    ")\n",
    "\n",
    "classification_chain = classification_template | ChatOpenAI() | StrOutputParser()"
   ]
  },
  {
   "cell_type": "code",
   "execution_count": 11,
   "metadata": {},
   "outputs": [
    {
     "name": "stdout",
     "output_type": "stream",
     "text": [
      "Using TECHNOLOGY\n"
     ]
    }
   ],
   "source": [
    "def prompt_router(input):\n",
    "    classification = classification_chain.invoke({\"question\": input[\"query\"]})\n",
    "\n",
    "    if classification == \"Car\":\n",
    "        print(\"Using CAR\")\n",
    "        return PromptTemplate.from_template(car_template)\n",
    "    elif classification == \"Restaurant\":\n",
    "        print(\"Using RESTAURANT\")\n",
    "        return PromptTemplate.from_template(restaurant_template)\n",
    "    elif classification == \"Technology\":\n",
    "        print(\"Using TECHNOLOGY\")\n",
    "        return PromptTemplate.from_template(technology_template)\n",
    "    else:\n",
    "        print(\"Unexpected classification:\", classification)\n",
    "        return None\n",
    "\n",
    "\n",
    "input_query = {\"query\": \"What are the latest trends in electric cars?\"}\n",
    "prompt = prompt_router(input_query)"
   ]
  },
  {
   "cell_type": "code",
   "execution_count": 12,
   "metadata": {},
   "outputs": [],
   "source": [
    "chain = (\n",
    "    {\"query\": RunnablePassthrough()}\n",
    "    | RunnableLambda(prompt_router)\n",
    "    | ChatOpenAI()\n",
    "    | StrOutputParser()\n",
    ")"
   ]
  },
  {
   "cell_type": "code",
   "execution_count": 13,
   "metadata": {},
   "outputs": [
    {
     "name": "stdout",
     "output_type": "stream",
     "text": [
      "Using RESTAURANT\n"
     ]
    },
    {
     "data": {
      "text/plain": [
       "\"Identifying a good vintage wine at a restaurant can be a bit tricky, but here are some tips to help you make a well-informed choice:\\n\\n1. Look at the wine list: A reputable restaurant with a good selection of wines is more likely to have quality vintage options. Check if the restaurant has a sommelier or knowledgeable staff who can guide you in choosing a good vintage wine.\\n\\n2. Consider the region: Different wine regions have varying climates and soil compositions that affect the taste and quality of the wine. Research the regions known for producing excellent vintage wines and look for options from those areas on the wine list.\\n\\n3. Check the year: Vintage wines are made from grapes harvested in a specific year, and the quality of the wine can vary depending on the weather conditions during that year. Look for wines from years known for producing outstanding vintages.\\n\\n4. Ask for recommendations: If you're unsure about which vintage wine to choose, don't hesitate to ask the server or sommelier for recommendations. They can suggest wines that pair well with your meal and fit your taste preferences.\\n\\n5. Trust your palate: Ultimately, the best way to identify a good vintage wine is to trust your own taste buds. Take your time to savor the wine and pay attention to its aroma, flavor, and finish. If you enjoy the wine and find it well-balanced and complex, chances are it's a good vintage choice.\""
      ]
     },
     "execution_count": 13,
     "metadata": {},
     "output_type": "execute_result"
    }
   ],
   "source": [
    "chain.invoke(\"How do I identify a good vintage wine at a restaurant?\")"
   ]
  }
 ],
 "metadata": {
  "kernelspec": {
   "display_name": "app",
   "language": "python",
   "name": "python3"
  },
  "language_info": {
   "codemirror_mode": {
    "name": "ipython",
    "version": 3
   },
   "file_extension": ".py",
   "mimetype": "text/x-python",
   "name": "python",
   "nbconvert_exporter": "python",
   "pygments_lexer": "ipython3",
   "version": "3.11.0"
  }
 },
 "nbformat": 4,
 "nbformat_minor": 2
}
